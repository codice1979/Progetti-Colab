{
 "cells": [
  {
   "cell_type": "code",
   "execution_count": null,
   "metadata": {},
   "outputs": [],
   "source": [
    "import yfinance as yf\n",
    "import matplotlib.pyplot as plt\n",
    "from datetime import datetime, timedelta\n",
    "\n",
    "# === Parametri ===\n",
    "ticker_symbol = \"^SPX\"      # S&P 500\n",
    "target_expiration = \"2025-10-17\"  # Scadenza opzioni\n",
    "target_strike = 5000        # Strike desiderato (da regolare in base al livello attuale dell'SPX)\n",
    "\n",
    "# === Scarica storico prezzi del sottostante ===\n",
    "end_date = datetime.today()\n",
    "start_date = end_date - timedelta(days=365)\n",
    "underlying = yf.download(ticker_symbol, start=start_date, end=end_date, interval=\"1d\")\n",
    "\n",
    "# === Scarica catena opzioni ===\n",
    "ticker = yf.Ticker(ticker_symbol)\n",
    "opt_chain = ticker.option_chain(target_expiration)\n",
    "calls = opt_chain.calls\n",
    "puts = opt_chain.puts\n",
    "\n",
    "# === Trova l'opzione Call e Put allo strike desiderato ===\n",
    "try:\n",
    "    call_symbol = calls.loc[calls['strike'] == target_strike, 'contractSymbol'].values[0]\n",
    "    put_symbol = puts.loc[puts['strike'] == target_strike, 'contractSymbol'].values[0]\n",
    "except IndexError:\n",
    "    raise ValueError(f\"Nessuna opzione trovata per strike {target_strike}. Strike disponibili: {calls['strike'].tolist()}\")\n",
    "\n",
    "# === Scarica storico prezzi opzioni ===\n",
    "call_data = yf.download(call_symbol, start=start_date, end=end_date, interval=\"1d\")\n",
    "put_data = yf.download(put_symbol, start=start_date, end=end_date, interval=\"1d\")\n",
    "\n",
    "# === Grafico ===\n",
    "fig, ax1 = plt.subplots(figsize=(12,6))\n",
    "\n",
    "# Prezzi Call e Put\n",
    "ax1.plot(call_data.index, call_data['Close'], label=f\"Call {target_strike}\", color='blue')\n",
    "ax1.plot(put_data.index, put_data['Close'], label=f\"Put {target_strike}\", color='red')\n",
    "ax1.set_xlabel(\"Data\")\n",
    "ax1.set_ylabel(\"Prezzo Opzioni ($)\")\n",
    "ax1.legend(loc=\"upper left\")\n",
    "\n",
    "# Prezzo sottostante su secondo asse\n",
    "ax2 = ax1.twinx()\n",
    "ax2.plot(underlying.index, underlying['Close'], label=\"Sottostante\", color='green', linestyle=\"--\")\n",
    "ax2.set_ylabel(\"Prezzo Sottostante ($)\")\n",
    "\n",
    "plt.title(f\"Andamento Call & Put Strike {target_strike} - Scadenza {target_expiration} - {ticker_symbol}\")\n",
    "plt.show()"
   ]
  }
 ],
 "metadata": {
  "kernelspec": {
   "display_name": "Python 3 (ipykernel)",
   "language": "python",
   "name": "python3"
  },
  "language_info": {
   "codemirror_mode": {
    "name": "ipython",
    "version": 3
   },
   "file_extension": ".py",
   "mimetype": "text/x-python",
   "name": "python",
   "nbconvert_exporter": "python",
   "pygments_lexer": "ipython3",
   "version": "3.11.0"
  }
 },
 "nbformat": 4,
 "nbformat_minor": 4
}
